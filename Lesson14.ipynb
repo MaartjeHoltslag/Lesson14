{
 "cells": [
  {
   "cell_type": "markdown",
   "metadata": {},
   "source": [
    "# Lesson 14"
   ]
  },
  {
   "cell_type": "markdown",
   "metadata": {},
   "source": [
    "## Geoscripting"
   ]
  },
  {
   "cell_type": "markdown",
   "metadata": {},
   "source": [
    "Stofzuigerzaag\n",
    "\n",
    "Jorn Habes & Maartje Holtslag\n",
    "\n",
    "21-01-2016"
   ]
  },
  {
   "cell_type": "markdown",
   "metadata": {},
   "source": [
    "     "
   ]
  },
  {
   "cell_type": "markdown",
   "metadata": {},
   "source": [
    "First download the mpl_toolkits basemap from the following url:\n",
    "\n",
    " https://downloads.sourceforge.net/project/matplotlib/matplotlib-toolkits/basemap-1.0.7/basemap-1.0.7.tar.gz"
   ]
  },
  {
   "cell_type": "markdown",
   "metadata": {},
   "source": [
    "Install the package typing the following line in the terminal:"
   ]
  },
  {
   "cell_type": "markdown",
   "metadata": {},
   "source": [
    "sudo apt-get install basemap"
   ]
  },
  {
   "cell_type": "markdown",
   "metadata": {},
   "source": [
    "Now you are ready to start!"
   ]
  },
  {
   "cell_type": "markdown",
   "metadata": {},
   "source": [
    "## Stored Twitter data"
   ]
  },
  {
   "cell_type": "markdown",
   "metadata": {},
   "source": [
    "Import the libraries and modules."
   ]
  },
  {
   "cell_type": "code",
   "execution_count": 34,
   "metadata": {
    "collapsed": true
   },
   "outputs": [],
   "source": [
    "from twython import Twython\n",
    "import json\n",
    "from datetime import datetime\n",
    "from datetime import date\n",
    "from time import *\n",
    "from mpl_toolkits.basemap import Basemap\n",
    "import matplotlib.pyplot as plt\n",
    "import numpy as np"
   ]
  },
  {
   "cell_type": "markdown",
   "metadata": {},
   "source": [
    "Enter your access codes for Twitter connection."
   ]
  },
  {
   "cell_type": "code",
   "execution_count": 35,
   "metadata": {
    "collapsed": false
   },
   "outputs": [],
   "source": [
    "APP_KEY =\n",
    "APP_SECRET =\n",
    "OAUTH_TOKEN =\n",
    "OAUTH_TOKEN_SECRET ="
   ]
  },
  {
   "cell_type": "markdown",
   "metadata": {},
   "source": [
    "Initiation of the Twython object."
   ]
  },
  {
   "cell_type": "code",
   "execution_count": 36,
   "metadata": {
    "collapsed": false
   },
   "outputs": [],
   "source": [
    "twitter = Twython(APP_KEY, APP_SECRET, OAUTH_TOKEN, OAUTH_TOKEN_SECRET)"
   ]
  },
  {
   "cell_type": "markdown",
   "metadata": {},
   "source": [
    "Determine the search criteria. The entered geocode are the coordinates of Amsterdam. For the best results the count should be set to 100."
   ]
  },
  {
   "cell_type": "code",
   "execution_count": 61,
   "metadata": {
    "collapsed": false
   },
   "outputs": [],
   "source": [
    "search_results = twitter.search(q='#politie', geocode=\"52.3740300,4.8896900,50km\", count=10)"
   ]
  },
  {
   "cell_type": "markdown",
   "metadata": {},
   "source": [
    "Set the name of the output file to the run date and time."
   ]
  },
  {
   "cell_type": "code",
   "execution_count": 62,
   "metadata": {
    "collapsed": true
   },
   "outputs": [],
   "source": [
    "output_file = 'result_'+datetime.now().strftime('%Y%m%d-%H%M%S')+'.csv' "
   ]
  },
  {
   "cell_type": "markdown",
   "metadata": {},
   "source": [
    "Create the lists for the longitudes and latitudes of the tweets."
   ]
  },
  {
   "cell_type": "code",
   "execution_count": 63,
   "metadata": {
    "collapsed": true
   },
   "outputs": [],
   "source": [
    "lons = []\n",
    "lats = []"
   ]
  },
  {
   "cell_type": "markdown",
   "metadata": {},
   "source": [
    "Write a function that writes information to a file."
   ]
  },
  {
   "cell_type": "code",
   "execution_count": 64,
   "metadata": {
    "collapsed": true
   },
   "outputs": [],
   "source": [
    "def write_tweet(t):\n",
    "    target = open(output_file, 'a')\n",
    "    target.write(t)\n",
    "    target.write('\\n')\n",
    "    target.close()"
   ]
  },
  {
   "cell_type": "markdown",
   "metadata": {},
   "source": [
    "The following code prints the username of the tweeter and writes the desired information to the previously created file."
   ]
  },
  {
   "cell_type": "code",
   "execution_count": 65,
   "metadata": {
    "collapsed": false
   },
   "outputs": [
    {
     "name": "stdout",
     "output_type": "stream",
     "text": [
      "2016-01-21 11:28:58, 52.286689, 5.2607321, #opsporingverzocht Blaricum - Verdachte van diefstal brandstof aangehouden: De politie heeft in de na... https://t.co/ffDkEDWODV #politie\n",
      "2016-01-21 10:16:15, 52.45, 4.83333, #Politie #Zaandam #zaanstreekwaterland #Zaanstad zet hem even dubbel @ Zaandam https://t.co/nVUqXQmwSv\n",
      "2016-01-20 23:00:43, 52.0634193, 5.1038687, #opsporingverzocht Utrecht - Overval op winkel, getuigen gezocht: Een winkel gevestigd aan de Nieuw-A... https://t.co/zV6DEH3ffA #politie\n",
      "2016-01-20 10:30:15, 52.8110945, 4.9948975, #opsporingverzocht Middenmeer - Snelheidscontrole: Op dinsdag werd een snelheidscontrole gehouden op ... https://t.co/QubTovv5PY #politie\n",
      "2016-01-20 10:30:15, 52.6423654, 5.0602124, #opsporingverzocht Hoorn - Autobrand: Op dinsdagavond, omstreeks 21.20 kregen de hulpdiensten melding... https://t.co/f6VbQT0vtu #politie\n",
      "2016-01-20 10:30:15, 52.627698, 4.891242, #opsporingverzocht Ursem - Dieven gepakt, motor weg: Op woensdagmorgen kon de politie, door oplettend... https://t.co/HXdqTAMgpE #politie\n",
      "2016-01-19 21:01:06, 52.4211286, 4.8551089, #opsporingverzocht Zaandam - Gezocht - Brandstichting bedrijf Bolbaken: Woensdagavond 2 december word... https://t.co/Dl2bCL1ckO #politie\n",
      "2016-01-19 21:01:06, 52.326473, 4.9511605, #opsporingverzocht Diemen - Update: Aangehouden jongens weer op vrije voeten: Drie jongens in de leef... https://t.co/ppznQ3TSrO #politie\n",
      "2016-01-19 12:12:04, 52.132633, 5.291266, #opsporingverzocht Nederland - Onderzoek naar aangiftemogelijkheden politie: In 2015 liet de Stichtin... https://t.co/fuOOX25Yoq #politie\n",
      "2016-01-19 12:12:04, 52.326473, 4.9511605, #opsporingverzocht Diemen - Inbrekertjes overlopen en aangehouden: Drie jongens in de leeftijd van 13... https://t.co/cjdSixR0IE #politie\n"
     ]
    }
   ],
   "source": [
    "for tweet in search_results[\"statuses\"]:\n",
    "    username =  tweet['user']['screen_name']\n",
    "    followers_count =  tweet['user']['followers_count']\n",
    "    tweettext = tweet['text']\n",
    "    if tweet['place'] != None:\n",
    "        full_place_name = tweet['place']['full_name']\n",
    "        place_type =  tweet['place']['place_type']\n",
    "        coordinates = tweet['coordinates']\n",
    "    if coordinates != None:\n",
    "        latlon = coordinates['coordinates']\n",
    "        tweet_lon = latlon[0]\n",
    "        lons += [tweet_lon]\n",
    "        tweet_lat= latlon[1]\n",
    "        lats += [tweet_lat]  \n",
    "    if tweet['created_at'] != None:\n",
    "        dt = tweet['created_at']\n",
    "        tweet_datetime = datetime.strptime(dt, '%a %b %d %H:%M:%S +0000 %Y')\n",
    "    if coordinates != None:\n",
    "                    string_to_write = str(tweet_datetime)+\", \"+str(tweet_lat)+\", \"+str(tweet_lon)+\", \"+str(tweettext.encode(\"utf-8\"))\n",
    "                    print string_to_write\n",
    "                    write_tweet(string_to_write)"
   ]
  },
  {
   "cell_type": "markdown",
   "metadata": {},
   "source": [
    "Then create the basemap, showing the Netherlands."
   ]
  },
  {
   "cell_type": "code",
   "execution_count": 66,
   "metadata": {
    "collapsed": false
   },
   "outputs": [
    {
     "data": {
      "text/plain": [
       "<matplotlib.patches.Rectangle at 0xaf99768c>"
      ]
     },
     "execution_count": 66,
     "metadata": {},
     "output_type": "execute_result"
    }
   ],
   "source": [
    "my_map = Basemap(projection='merc', lat_0 = 57, lon_0 = -135,\n",
    "    resolution = 'h', area_thresh = 0.1,\n",
    "    llcrnrlon=3.363889, llcrnrlat=50.756069,\n",
    "    urcrnrlon=7.209444, urcrnrlat=53.509299)\n",
    "my_map.drawcoastlines()\n",
    "my_map.drawcountries()\n",
    "my_map.fillcontinents(color = 'coral')\n",
    "my_map.drawmapboundary()"
   ]
  },
  {
   "cell_type": "markdown",
   "metadata": {},
   "source": [
    "And add the coordinates of the tweets to the map."
   ]
  },
  {
   "cell_type": "code",
   "execution_count": 67,
   "metadata": {
    "collapsed": false
   },
   "outputs": [
    {
     "data": {
      "text/plain": [
       "[<matplotlib.lines.Line2D at 0xaf997b4c>]"
      ]
     },
     "execution_count": 67,
     "metadata": {},
     "output_type": "execute_result"
    }
   ],
   "source": [
    "x,y = my_map(lons, lats)\n",
    "my_map.plot(x, y, 'bo', markersize=4)"
   ]
  },
  {
   "cell_type": "markdown",
   "metadata": {},
   "source": [
    "Finally the map can be plotted in a seperate window."
   ]
  },
  {
   "cell_type": "code",
   "execution_count": 68,
   "metadata": {
    "collapsed": true
   },
   "outputs": [],
   "source": [
    "plt.show()"
   ]
  },
  {
   "cell_type": "markdown",
   "metadata": {},
   "source": [
    "This map shows the last 10 tweets about police calls in a radius of 50km around Amsterdam."
   ]
  },
  {
   "cell_type": "code",
   "execution_count": null,
   "metadata": {
    "collapsed": true
   },
   "outputs": [],
   "source": []
  }
 ],
 "metadata": {
  "gist_id": "fdcd2ec7dbe47999ef46",
  "kernelspec": {
   "display_name": "Python 2",
   "language": "python",
   "name": "python2"
  },
  "language_info": {
   "codemirror_mode": {
    "name": "ipython",
    "version": 2
   },
   "file_extension": ".py",
   "mimetype": "text/x-python",
   "name": "python",
   "nbconvert_exporter": "python",
   "pygments_lexer": "ipython2",
   "version": "2.7.6"
  }
 },
 "nbformat": 4,
 "nbformat_minor": 0
}
